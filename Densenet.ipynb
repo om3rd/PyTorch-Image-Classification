{
  "nbformat": 4,
  "nbformat_minor": 0,
  "metadata": {
    "colab": {
      "provenance": [],
      "gpuType": "T4"
    },
    "kernelspec": {
      "name": "python3",
      "display_name": "Python 3"
    },
    "language_info": {
      "name": "python"
    },
    "accelerator": "GPU"
  },
  "cells": [
    {
      "cell_type": "code",
      "execution_count": 1,
      "metadata": {
        "id": "NtQb3PxN8bsI"
      },
      "outputs": [],
      "source": [
        "# Importing Libraries\n",
        "\n",
        "import numpy as np\n",
        "import pandas as pd\n",
        "from PIL import Image\n",
        "import torch\n",
        "from torch import nn\n",
        "from torch.functional import F\n",
        "from torch.utils.data import DataLoader, TensorDataset\n",
        "import torchvision\n",
        "from torchvision import transforms\n",
        "from torchvision import datasets\n",
        "from torchvision.transforms import ToTensor\n",
        "\n",
        "import math"
      ]
    },
    {
      "cell_type": "code",
      "source": [
        "transform = transforms.Compose([\n",
        "    transforms.ToTensor(),\n",
        "    transforms.Normalize((0.5, 0.5, 0.5), (0.5, 0.5, 0.5))\n",
        "])"
      ],
      "metadata": {
        "id": "Zbd3zA2M-HbZ"
      },
      "execution_count": 2,
      "outputs": []
    },
    {
      "cell_type": "code",
      "source": [
        "# Loading data into DataLoader\n",
        "\n",
        "train_data = torchvision.datasets.CIFAR100(root = './data', train = True, transform = transform, download = True)\n",
        "train_data = torchvision.datasets.CIFAR100(root = './data', train = False, transform = transform, download = True)\n",
        "\n",
        "batch_size = 64\n",
        "train_loader = torch.utils.data.DataLoader(train_data, batch_size = batch_size, shuffle = True)\n",
        "test_loader = torch.utils.data.DataLoader(train_data, batch_size = batch_size, shuffle = False)"
      ],
      "metadata": {
        "colab": {
          "base_uri": "https://localhost:8080/"
        },
        "id": "yUPK22nx_Sq7",
        "outputId": "4e97aa1e-318b-43b1-bb81-6abc1f219ff7"
      },
      "execution_count": 3,
      "outputs": [
        {
          "output_type": "stream",
          "name": "stdout",
          "text": [
            "Downloading https://www.cs.toronto.edu/~kriz/cifar-100-python.tar.gz to ./data/cifar-100-python.tar.gz\n"
          ]
        },
        {
          "output_type": "stream",
          "name": "stderr",
          "text": [
            "100%|██████████| 169001437/169001437 [00:08<00:00, 20542948.15it/s]\n"
          ]
        },
        {
          "output_type": "stream",
          "name": "stdout",
          "text": [
            "Extracting ./data/cifar-100-python.tar.gz to ./data\n",
            "Files already downloaded and verified\n"
          ]
        }
      ]
    },
    {
      "cell_type": "code",
      "source": [
        "print(len(train_loader.dataset), \"\\n\", len(test_loader.dataset))\n",
        "\n",
        "for data,label in train_loader:\n",
        "    print(data.shape, label.shape)\n",
        "    break"
      ],
      "metadata": {
        "colab": {
          "base_uri": "https://localhost:8080/"
        },
        "id": "RFLbn_KC_3ax",
        "outputId": "900f73cd-9fa8-46ea-ebc0-8af5f68985f9"
      },
      "execution_count": 4,
      "outputs": [
        {
          "output_type": "stream",
          "name": "stdout",
          "text": [
            "10000 \n",
            " 10000\n",
            "torch.Size([64, 3, 32, 32]) torch.Size([64])\n"
          ]
        }
      ]
    },
    {
      "cell_type": "code",
      "source": [
        "# Checking class names\n",
        "\n",
        "cifar100 = datasets.CIFAR100(root = './data')\n",
        "class_names = cifar100.classes\n",
        "print(class_names)"
      ],
      "metadata": {
        "colab": {
          "base_uri": "https://localhost:8080/"
        },
        "id": "tqlFyryC_3hr",
        "outputId": "1fac2385-9a12-4cc3-8663-9d0da2165695"
      },
      "execution_count": 5,
      "outputs": [
        {
          "output_type": "stream",
          "name": "stdout",
          "text": [
            "['apple', 'aquarium_fish', 'baby', 'bear', 'beaver', 'bed', 'bee', 'beetle', 'bicycle', 'bottle', 'bowl', 'boy', 'bridge', 'bus', 'butterfly', 'camel', 'can', 'castle', 'caterpillar', 'cattle', 'chair', 'chimpanzee', 'clock', 'cloud', 'cockroach', 'couch', 'crab', 'crocodile', 'cup', 'dinosaur', 'dolphin', 'elephant', 'flatfish', 'forest', 'fox', 'girl', 'hamster', 'house', 'kangaroo', 'keyboard', 'lamp', 'lawn_mower', 'leopard', 'lion', 'lizard', 'lobster', 'man', 'maple_tree', 'motorcycle', 'mountain', 'mouse', 'mushroom', 'oak_tree', 'orange', 'orchid', 'otter', 'palm_tree', 'pear', 'pickup_truck', 'pine_tree', 'plain', 'plate', 'poppy', 'porcupine', 'possum', 'rabbit', 'raccoon', 'ray', 'road', 'rocket', 'rose', 'sea', 'seal', 'shark', 'shrew', 'skunk', 'skyscraper', 'snail', 'snake', 'spider', 'squirrel', 'streetcar', 'sunflower', 'sweet_pepper', 'table', 'tank', 'telephone', 'television', 'tiger', 'tractor', 'train', 'trout', 'tulip', 'turtle', 'wardrobe', 'whale', 'willow_tree', 'wolf', 'woman', 'worm']\n"
          ]
        }
      ]
    },
    {
      "cell_type": "code",
      "source": [
        "# Creating Model\n",
        "\n",
        "class Bottleneck(nn.Module):\n",
        "    def __init__(self, in_planes, growth_rate):\n",
        "        super(Bottleneck, self).__init__()\n",
        "        self.bn1 = nn.BatchNorm2d(in_planes)\n",
        "        self.conv1 = nn.Conv2d(in_planes, 4*growth_rate, kernel_size=1, bias=False)\n",
        "        self.bn2 = nn.BatchNorm2d(4*growth_rate)\n",
        "        self.conv2 = nn.Conv2d(4*growth_rate, growth_rate, kernel_size=3, padding=1, bias=False)\n",
        "\n",
        "    def forward(self, x):\n",
        "        out = self.conv1(F.relu(self.bn1(x)))\n",
        "        out = self.conv2(F.relu(self.bn2(out)))\n",
        "        out = torch.cat([out,x], 1)\n",
        "        return out\n",
        "\n",
        "\n",
        "class Transition(nn.Module):\n",
        "    def __init__(self, in_planes, out_planes):\n",
        "        super(Transition, self).__init__()\n",
        "        self.bn = nn.BatchNorm2d(in_planes)\n",
        "        self.conv = nn.Conv2d(in_planes, out_planes, kernel_size=1, bias=False)\n",
        "\n",
        "    def forward(self, x):\n",
        "        out = self.conv(F.relu(self.bn(x)))\n",
        "        out = F.avg_pool2d(out, 2)\n",
        "        return out\n",
        "\n",
        "\n",
        "class DenseNet(nn.Module):\n",
        "    def __init__(self, block, nblocks, growth_rate=12, reduction=0.5, num_classes=100):\n",
        "        super(DenseNet, self).__init__()\n",
        "        self.growth_rate = growth_rate\n",
        "\n",
        "        num_planes = 2*growth_rate\n",
        "        self.conv1 = nn.Conv2d(3, num_planes, kernel_size=3, padding=1, bias=False)\n",
        "\n",
        "        self.dense1 = self._make_dense_layers(block, num_planes, nblocks[0])\n",
        "        num_planes += nblocks[0]*growth_rate\n",
        "        out_planes = int(math.floor(num_planes*reduction))\n",
        "        self.trans1 = Transition(num_planes, out_planes)\n",
        "        num_planes = out_planes\n",
        "\n",
        "        self.dense2 = self._make_dense_layers(block, num_planes, nblocks[1])\n",
        "        num_planes += nblocks[1]*growth_rate\n",
        "        out_planes = int(math.floor(num_planes*reduction))\n",
        "        self.trans2 = Transition(num_planes, out_planes)\n",
        "        num_planes = out_planes\n",
        "\n",
        "        self.dense3 = self._make_dense_layers(block, num_planes, nblocks[2])\n",
        "        num_planes += nblocks[2]*growth_rate\n",
        "        out_planes = int(math.floor(num_planes*reduction))\n",
        "        self.trans3 = Transition(num_planes, out_planes)\n",
        "        num_planes = out_planes\n",
        "\n",
        "        self.dense4 = self._make_dense_layers(block, num_planes, nblocks[3])\n",
        "        num_planes += nblocks[3]*growth_rate\n",
        "\n",
        "        self.bn = nn.BatchNorm2d(num_planes)\n",
        "        self.linear = nn.Linear(num_planes, num_classes)\n",
        "\n",
        "    def _make_dense_layers(self, block, in_planes, nblock):\n",
        "        layers = []\n",
        "        for i in range(nblock):\n",
        "            layers.append(block(in_planes, self.growth_rate))\n",
        "            in_planes += self.growth_rate\n",
        "        return nn.Sequential(*layers)\n",
        "\n",
        "    def forward(self, x):\n",
        "        out = self.conv1(x)\n",
        "        out = self.trans1(self.dense1(out))\n",
        "        out = self.trans2(self.dense2(out))\n",
        "        out = self.trans3(self.dense3(out))\n",
        "        out = self.dense4(out)\n",
        "        out = F.avg_pool2d(F.relu(self.bn(out)), kernel_size=out.size()[2:])\n",
        "        out = out.view(out.size(0), -1)\n",
        "        out = self.linear(out)\n",
        "        return out"
      ],
      "metadata": {
        "id": "JMMhyn-TQwLz"
      },
      "execution_count": 6,
      "outputs": []
    },
    {
      "cell_type": "code",
      "source": [
        "model = DenseNet(Bottleneck, [6,12,24,16], growth_rate=32)\n",
        "device = torch.device(\"cuda\" if torch.cuda.is_available() else \"cpu\")\n",
        "model = model.to(device)\n",
        "criterion = nn.CrossEntropyLoss()\n",
        "optimizer = torch.optim.Adam(model.parameters())"
      ],
      "metadata": {
        "id": "wgOm-ilZcaLl"
      },
      "execution_count": 7,
      "outputs": []
    },
    {
      "cell_type": "code",
      "source": [
        "def calculate_accuracy(y_pred, y):\n",
        "  top_pred = y_pred.argmax(1, keepdim = True)\n",
        "  correct = top_pred.eq(y.view_as(top_pred)).sum()\n",
        "  acc = correct.float() / y.shape[0]\n",
        "  return acc\n",
        "\n",
        "train_losses = []\n",
        "train_accs = []\n",
        "\n",
        "epochs = 100\n",
        "\n",
        "for epoch in range(epochs):\n",
        "  epoch_loss = 0\n",
        "  epoch_acc = 0\n",
        "\n",
        "  for (x, y) in train_loader:\n",
        "    x = x.to(device)\n",
        "    y = y.to(device)\n",
        "\n",
        "    optimizer.zero_grad()\n",
        "\n",
        "    y_pred = model(x)\n",
        "\n",
        "    loss = criterion(y_pred, y)\n",
        "\n",
        "    acc = calculate_accuracy(y_pred, y)\n",
        "\n",
        "    loss.backward()\n",
        "\n",
        "    optimizer.step()\n",
        "\n",
        "    epoch_loss += loss.item()\n",
        "    epoch_acc += acc.item()\n",
        "\n",
        "\n",
        "  train_losses.append(epoch_loss / len(train_loader))\n",
        "  train_accs.append(epoch_acc / len(train_loader))\n",
        "\n",
        "  print(f'Epoch {epoch+1}: | Loss: {epoch_loss / len(train_loader):.5f} | Acc: {epoch_acc / len(train_loader):.2f}')\n",
        "\n",
        "# Plot the loss and accuracy\n",
        "import matplotlib.pyplot as plt\n",
        "plt.plot(train_losses, label='Loss')\n",
        "plt.plot(train_accs, label='Accuracy')\n",
        "plt.legend()\n",
        "plt.show()\n",
        "\n",
        "# Calculate other metrics (F1-score, recall, precision)\n",
        "from sklearn.metrics import f1_score, recall_score, precision_score\n",
        "\n",
        "# Eğitim sonunda tüm tahminleri ve gerçek etiketleri depolamak için listeler\n",
        "all_predictions = []\n",
        "all_labels = []\n",
        "\n",
        "# Test verileri üzerinde modeli değerlendirme\n",
        "with torch.no_grad():\n",
        "  for (x, y) in test_loader:\n",
        "    x = x.to(device)\n",
        "    y = y.to(device)\n",
        "\n",
        "    y_pred = model(x)\n",
        "\n",
        "    # Tahminleri ve etiketleri listeye ekleme\n",
        "    all_predictions.extend(y_pred.argmax(1).cpu().numpy())\n",
        "    all_labels.extend(y.cpu().numpy())\n",
        "\n",
        "# Metrikleri hesaplama\n",
        "f1 = f1_score(all_labels, all_predictions, average='weighted')\n",
        "recall = recall_score(all_labels, all_predictions, average='weighted')\n",
        "precision = precision_score(all_labels, all_predictions, average='weighted')\n",
        "accuracy = sum(1 for x,y in zip(all_predictions,all_labels) if x == y) / len(all_labels)\n",
        "\n",
        "print(f'F1-score: {f1:.4f}')\n",
        "print(f'Recall: {recall:.4f}')\n",
        "print(f'Precision: {precision:.4f}')\n",
        "print(f'Accuracy: {accuracy:.4f}')"
      ],
      "metadata": {
        "colab": {
          "base_uri": "https://localhost:8080/",
          "height": 1000
        },
        "id": "l8QwBBVLZp0H",
        "outputId": "243d9ef9-4d56-42d5-9d31-648667b86159",
        "collapsed": true
      },
      "execution_count": 8,
      "outputs": [
        {
          "output_type": "stream",
          "name": "stdout",
          "text": [
            "Epoch 1: | Loss: 4.20569 | Acc: 0.06\n",
            "Epoch 2: | Loss: 3.83433 | Acc: 0.10\n",
            "Epoch 3: | Loss: 3.57339 | Acc: 0.14\n",
            "Epoch 4: | Loss: 3.25304 | Acc: 0.20\n",
            "Epoch 5: | Loss: 2.96234 | Acc: 0.25\n",
            "Epoch 6: | Loss: 2.68553 | Acc: 0.30\n",
            "Epoch 7: | Loss: 2.42720 | Acc: 0.36\n",
            "Epoch 8: | Loss: 2.20447 | Acc: 0.40\n",
            "Epoch 9: | Loss: 1.98998 | Acc: 0.45\n",
            "Epoch 10: | Loss: 1.79246 | Acc: 0.50\n",
            "Epoch 11: | Loss: 1.60284 | Acc: 0.55\n",
            "Epoch 12: | Loss: 1.39807 | Acc: 0.60\n",
            "Epoch 13: | Loss: 1.20983 | Acc: 0.64\n",
            "Epoch 14: | Loss: 1.00839 | Acc: 0.71\n",
            "Epoch 15: | Loss: 0.80584 | Acc: 0.76\n",
            "Epoch 16: | Loss: 0.63552 | Acc: 0.81\n",
            "Epoch 17: | Loss: 0.49646 | Acc: 0.85\n",
            "Epoch 18: | Loss: 0.39575 | Acc: 0.88\n",
            "Epoch 19: | Loss: 0.28790 | Acc: 0.92\n",
            "Epoch 20: | Loss: 0.21400 | Acc: 0.94\n",
            "Epoch 21: | Loss: 0.17335 | Acc: 0.95\n",
            "Epoch 22: | Loss: 0.13021 | Acc: 0.97\n",
            "Epoch 23: | Loss: 0.17390 | Acc: 0.95\n",
            "Epoch 24: | Loss: 0.12852 | Acc: 0.97\n",
            "Epoch 25: | Loss: 0.08291 | Acc: 0.98\n",
            "Epoch 26: | Loss: 0.06920 | Acc: 0.98\n",
            "Epoch 27: | Loss: 0.10311 | Acc: 0.97\n",
            "Epoch 28: | Loss: 0.18905 | Acc: 0.94\n",
            "Epoch 29: | Loss: 0.23788 | Acc: 0.92\n",
            "Epoch 30: | Loss: 0.12292 | Acc: 0.96\n",
            "Epoch 31: | Loss: 0.03205 | Acc: 0.99\n",
            "Epoch 32: | Loss: 0.01412 | Acc: 1.00\n",
            "Epoch 33: | Loss: 0.01740 | Acc: 1.00\n",
            "Epoch 34: | Loss: 0.00714 | Acc: 1.00\n",
            "Epoch 35: | Loss: 0.00491 | Acc: 1.00\n",
            "Epoch 36: | Loss: 0.00362 | Acc: 1.00\n",
            "Epoch 37: | Loss: 0.00391 | Acc: 1.00\n",
            "Epoch 38: | Loss: 0.10114 | Acc: 0.97\n",
            "Epoch 39: | Loss: 0.71709 | Acc: 0.78\n",
            "Epoch 40: | Loss: 0.13095 | Acc: 0.96\n",
            "Epoch 41: | Loss: 0.02732 | Acc: 0.99\n",
            "Epoch 42: | Loss: 0.01725 | Acc: 1.00\n",
            "Epoch 43: | Loss: 0.00953 | Acc: 1.00\n",
            "Epoch 44: | Loss: 0.00608 | Acc: 1.00\n",
            "Epoch 45: | Loss: 0.00476 | Acc: 1.00\n",
            "Epoch 46: | Loss: 0.00648 | Acc: 1.00\n",
            "Epoch 47: | Loss: 0.00527 | Acc: 1.00\n",
            "Epoch 48: | Loss: 0.09480 | Acc: 0.97\n",
            "Epoch 49: | Loss: 0.44821 | Acc: 0.86\n",
            "Epoch 50: | Loss: 0.15670 | Acc: 0.95\n",
            "Epoch 51: | Loss: 0.03112 | Acc: 0.99\n",
            "Epoch 52: | Loss: 0.00871 | Acc: 1.00\n",
            "Epoch 53: | Loss: 0.00520 | Acc: 1.00\n",
            "Epoch 54: | Loss: 0.00291 | Acc: 1.00\n",
            "Epoch 55: | Loss: 0.00295 | Acc: 1.00\n",
            "Epoch 56: | Loss: 0.00292 | Acc: 1.00\n",
            "Epoch 57: | Loss: 0.00208 | Acc: 1.00\n",
            "Epoch 58: | Loss: 0.00956 | Acc: 1.00\n",
            "Epoch 59: | Loss: 0.20764 | Acc: 0.93\n",
            "Epoch 60: | Loss: 0.34880 | Acc: 0.89\n",
            "Epoch 61: | Loss: 0.07986 | Acc: 0.98\n",
            "Epoch 62: | Loss: 0.01205 | Acc: 1.00\n",
            "Epoch 63: | Loss: 0.00636 | Acc: 1.00\n",
            "Epoch 64: | Loss: 0.00533 | Acc: 1.00\n",
            "Epoch 65: | Loss: 0.00337 | Acc: 1.00\n",
            "Epoch 66: | Loss: 0.00195 | Acc: 1.00\n",
            "Epoch 67: | Loss: 0.00217 | Acc: 1.00\n",
            "Epoch 68: | Loss: 0.00687 | Acc: 1.00\n",
            "Epoch 69: | Loss: 0.19412 | Acc: 0.94\n",
            "Epoch 70: | Loss: 0.20719 | Acc: 0.93\n",
            "Epoch 71: | Loss: 0.05417 | Acc: 0.98\n",
            "Epoch 72: | Loss: 0.01870 | Acc: 1.00\n",
            "Epoch 73: | Loss: 0.04295 | Acc: 0.99\n",
            "Epoch 74: | Loss: 0.04229 | Acc: 0.99\n",
            "Epoch 75: | Loss: 0.01353 | Acc: 1.00\n",
            "Epoch 76: | Loss: 0.01140 | Acc: 1.00\n",
            "Epoch 77: | Loss: 0.00469 | Acc: 1.00\n",
            "Epoch 78: | Loss: 0.00935 | Acc: 1.00\n",
            "Epoch 79: | Loss: 0.00307 | Acc: 1.00\n",
            "Epoch 80: | Loss: 0.00379 | Acc: 1.00\n",
            "Epoch 81: | Loss: 0.04964 | Acc: 0.98\n",
            "Epoch 82: | Loss: 0.30061 | Acc: 0.90\n",
            "Epoch 83: | Loss: 0.09834 | Acc: 0.97\n",
            "Epoch 84: | Loss: 0.02525 | Acc: 0.99\n",
            "Epoch 85: | Loss: 0.00683 | Acc: 1.00\n",
            "Epoch 86: | Loss: 0.00283 | Acc: 1.00\n",
            "Epoch 87: | Loss: 0.00347 | Acc: 1.00\n",
            "Epoch 88: | Loss: 0.00191 | Acc: 1.00\n",
            "Epoch 89: | Loss: 0.00251 | Acc: 1.00\n",
            "Epoch 90: | Loss: 0.00869 | Acc: 1.00\n",
            "Epoch 91: | Loss: 0.01580 | Acc: 1.00\n",
            "Epoch 92: | Loss: 0.14188 | Acc: 0.95\n",
            "Epoch 93: | Loss: 0.14501 | Acc: 0.95\n",
            "Epoch 94: | Loss: 0.05180 | Acc: 0.98\n",
            "Epoch 95: | Loss: 0.00979 | Acc: 1.00\n",
            "Epoch 96: | Loss: 0.00571 | Acc: 1.00\n",
            "Epoch 97: | Loss: 0.00741 | Acc: 1.00\n",
            "Epoch 98: | Loss: 0.00432 | Acc: 1.00\n",
            "Epoch 99: | Loss: 0.00522 | Acc: 1.00\n",
            "Epoch 100: | Loss: 0.00305 | Acc: 1.00\n"
          ]
        },
        {
          "output_type": "display_data",
          "data": {
            "text/plain": [
              "<Figure size 640x480 with 1 Axes>"
            ],
            "image/png": "[encoded data removed]"
          },
          "metadata": {}
        },
        {
          "output_type": "stream",
          "name": "stdout",
          "text": [
            "F1-score: 0.9998\n",
            "Recall: 0.9998\n",
            "Precision: 0.9998\n",
            "Accuracy: 0.9998\n"
          ]
        }
      ]
    },
    {
      "cell_type": "markdown",
      "source": [
        "### Conclusion\n",
        "\n",
        "- f1, accuracy, recall, precision values are equal. This means that the model performs perfectly for all classes and there is no imbalance or bias between classes. This is mainly due to the use of a ready-made dataset in the torchvision library (CIFAR100)."
      ],
      "metadata": {
        "id": "OYp-W3eqJPPP"
      }
    }
  ]
}